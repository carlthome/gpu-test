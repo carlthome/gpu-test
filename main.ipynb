{
 "cells": [
  {
   "cell_type": "code",
   "execution_count": 5,
   "metadata": {},
   "outputs": [],
   "source": [
    "import tensorflow as tf\n",
    "\n",
    "assert tf.test.is_built_with_cuda()\n",
    "assert tf.config.list_physical_devices(\"GPU\")"
   ]
  },
  {
   "cell_type": "code",
   "execution_count": 9,
   "metadata": {},
   "outputs": [],
   "source": [
    "n, m, l = 100, 10, 16\n",
    "\n",
    "a = tf.ones((n, m))\n",
    "b = tf.ones((m, l))\n",
    "c = a @ b\n",
    "tf.assert_equal(c, 10.0)"
   ]
  }
 ],
 "metadata": {
  "interpreter": {
   "hash": "309024822ccf407a85ef10a98b307fa22a5accc917936b8465711144284143c9"
  },
  "kernelspec": {
   "display_name": "Python 3.8.10 ('.venv': venv)",
   "language": "python",
   "name": "python3"
  },
  "language_info": {
   "codemirror_mode": {
    "name": "ipython",
    "version": 3
   },
   "file_extension": ".py",
   "mimetype": "text/x-python",
   "name": "python",
   "nbconvert_exporter": "python",
   "pygments_lexer": "ipython3",
   "version": "3.8.10"
  },
  "orig_nbformat": 4
 },
 "nbformat": 4,
 "nbformat_minor": 2
}
